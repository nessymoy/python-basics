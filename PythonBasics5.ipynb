{
 "cells": [
  {
   "cell_type": "code",
   "execution_count": 1,
   "id": "ba131ff1",
   "metadata": {},
   "outputs": [
    {
     "name": "stdout",
     "output_type": "stream",
     "text": [
      "['Python is a general-purpose language.', 'Python is popular.']\n"
     ]
    }
   ],
   "source": [
    "text = \"\"\"Python is a general-purpose language.\n",
    "Python is popular.\"\"\"\n",
    "print(text.splitlines())"
   ]
  },
  {
   "cell_type": "code",
   "execution_count": null,
   "id": "38c2f4f5",
   "metadata": {},
   "outputs": [],
   "source": []
  },
  {
   "cell_type": "code",
   "execution_count": 3,
   "id": "591568d6",
   "metadata": {},
   "outputs": [
    {
     "name": "stdout",
     "output_type": "stream",
     "text": [
      "00000034\n"
     ]
    }
   ],
   "source": [
    "num = 34\n",
    "num_str = str(num)\n",
    "formatted_num = num_str.zfill(8)  \n",
    "print(formatted_num)\n"
   ]
  },
  {
   "cell_type": "code",
   "execution_count": null,
   "id": "832e2a42",
   "metadata": {},
   "outputs": [],
   "source": []
  },
  {
   "cell_type": "code",
   "execution_count": 4,
   "id": "6c3ab882",
   "metadata": {},
   "outputs": [
    {
     "name": "stdout",
     "output_type": "stream",
     "text": [
      "sciezka data scientist machine learning engineer\n"
     ]
    }
   ],
   "source": [
    "url = (\n",
    "    \"https://e-smartdata.teachable.com/p/\"\n",
    "    \"sciezka-data-scientist-machine-learning-engineer\"\n",
    ")\n",
    "name = url.split('/')[-1]\n",
    "name = name.replace('-', ' ')\n",
    "print(name)"
   ]
  },
  {
   "cell_type": "code",
   "execution_count": null,
   "id": "04ca0087",
   "metadata": {},
   "outputs": [],
   "source": []
  },
  {
   "cell_type": "markdown",
   "id": "d547322e",
   "metadata": {},
   "source": [
    "### DATA STRUCTURES"
   ]
  },
  {
   "cell_type": "code",
   "execution_count": 5,
   "id": "5f2c08f6",
   "metadata": {},
   "outputs": [
    {
     "name": "stdout",
     "output_type": "stream",
     "text": [
      "{'biology', 'mathematics', 'english'}\n"
     ]
    }
   ],
   "source": [
    "subjects = {'mathematics', 'biology'}\n",
    "subjects.add('english')\n",
    "print(subjects)"
   ]
  },
  {
   "cell_type": "code",
   "execution_count": null,
   "id": "74adcece",
   "metadata": {},
   "outputs": [],
   "source": []
  },
  {
   "cell_type": "code",
   "execution_count": 7,
   "id": "40772d0c",
   "metadata": {},
   "outputs": [],
   "source": [
    "text = 'Programming in python.'\n",
    "vowels = {'a', 'e', 'i', 'o', 'u'}"
   ]
  },
  {
   "cell_type": "code",
   "execution_count": 10,
   "id": "73bec244",
   "metadata": {},
   "outputs": [
    {
     "name": "stdout",
     "output_type": "stream",
     "text": [
      "Number of items in the letters set: 8\n"
     ]
    }
   ],
   "source": [
    "\n",
    "# Step 1: Change all letters to lowercase\n",
    "text_lower = text.lower()\n",
    "\n",
    "# Step 2: Delete spaces and period\n",
    "text_processed = text_lower.replace(' ', '').replace('.', '')\n",
    "\n",
    "# Step 3: Create a set consisting of all letters in the text\n",
    "letters = set(text_processed)\n",
    "\n",
    "# Step 4: Define the set of vowels\n",
    "vowels = {'a', 'e', 'i', 'o', 'u'}\n",
    "\n",
    "# Step 5: Remove all vowels from the letters set\n",
    "letters -= vowels\n",
    "\n",
    "# Step 6: Print the number of items in the letters set\n",
    "print(\"Number of items in the letters set:\", len(letters))\n"
   ]
  },
  {
   "cell_type": "code",
   "execution_count": null,
   "id": "c660a360",
   "metadata": {},
   "outputs": [],
   "source": []
  },
  {
   "cell_type": "code",
   "execution_count": null,
   "id": "265087e4",
   "metadata": {},
   "outputs": [],
   "source": []
  },
  {
   "cell_type": "code",
   "execution_count": null,
   "id": "41700dd5",
   "metadata": {},
   "outputs": [],
   "source": []
  },
  {
   "cell_type": "code",
   "execution_count": null,
   "id": "d8bfa49c",
   "metadata": {},
   "outputs": [],
   "source": []
  },
  {
   "cell_type": "code",
   "execution_count": null,
   "id": "a06e5254",
   "metadata": {},
   "outputs": [],
   "source": []
  }
 ],
 "metadata": {
  "kernelspec": {
   "display_name": "Python 3 (ipykernel)",
   "language": "python",
   "name": "python3"
  },
  "language_info": {
   "codemirror_mode": {
    "name": "ipython",
    "version": 3
   },
   "file_extension": ".py",
   "mimetype": "text/x-python",
   "name": "python",
   "nbconvert_exporter": "python",
   "pygments_lexer": "ipython3",
   "version": "3.11.4"
  }
 },
 "nbformat": 4,
 "nbformat_minor": 5
}
