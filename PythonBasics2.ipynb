{
 "cells": [
  {
   "cell_type": "markdown",
   "id": "6ab03931",
   "metadata": {},
   "source": [
    "#### Calculations in python"
   ]
  },
  {
   "cell_type": "code",
   "execution_count": 38,
   "id": "b750ea80",
   "metadata": {},
   "outputs": [
    {
     "name": "stdout",
     "output_type": "stream",
     "text": [
      "The future value of the investment: 1159.27 USD\n"
     ]
    }
   ],
   "source": [
    "pv = 1000\n",
    "r = 0.03\n",
    "n = 5\n",
    "fv = pv * (1 + r) ** n\n",
    "print(f'The future value of the investment: {fv:.2f} USD')"
   ]
  },
  {
   "cell_type": "markdown",
   "id": "347da9dc",
   "metadata": {},
   "source": [
    "#### EX23"
   ]
  },
  {
   "cell_type": "code",
   "execution_count": 40,
   "id": "6b1e0527",
   "metadata": {},
   "outputs": [
    {
     "name": "stdout",
     "output_type": "stream",
     "text": [
      "jpg\n"
     ]
    }
   ],
   "source": [
    "filename = 'view.jpg'\n",
    "file_extension = filename.split('.')[-1]\n",
    "print (file_extension)"
   ]
  },
  {
   "cell_type": "code",
   "execution_count": 41,
   "id": "0da0104c",
   "metadata": {},
   "outputs": [
    {
     "name": "stdout",
     "output_type": "stream",
     "text": [
      "PKVPLN\n"
     ]
    }
   ],
   "source": [
    "string = 'PKV-89415-PLN'\n",
    "first_three = string[:3]\n",
    "last_three = string[-3:]\n",
    "result = first_three + last_three\n",
    "print(result)\n"
   ]
  },
  {
   "cell_type": "code",
   "execution_count": 42,
   "id": "5640709a",
   "metadata": {},
   "outputs": [
    {
     "name": "stdout",
     "output_type": "stream",
     "text": [
      "Number found: 37\n"
     ]
    }
   ],
   "source": [
    "string = '1 0 0 1 0 1'\n",
    "string_without_spaces = string.replace(\" \", \"\")\n",
    "decimal_number = int(string_without_spaces, 2)\n",
    "\n",
    "print(\"Number found:\", decimal_number)\n"
   ]
  },
  {
   "cell_type": "code",
   "execution_count": 43,
   "id": "aa4c6f65",
   "metadata": {},
   "outputs": [
    {
     "name": "stdout",
     "output_type": "stream",
     "text": [
      "esruoC nohtyP\n"
     ]
    }
   ],
   "source": [
    "text = 'Python Course'\n",
    "reversed_text = text[::-1]\n",
    "print(reversed_text)\n"
   ]
  },
  {
   "cell_type": "code",
   "execution_count": null,
   "id": "cbc70899",
   "metadata": {},
   "outputs": [],
   "source": []
  },
  {
   "cell_type": "code",
   "execution_count": null,
   "id": "c1a3c835",
   "metadata": {},
   "outputs": [],
   "source": []
  },
  {
   "cell_type": "code",
   "execution_count": null,
   "id": "4f8847ee",
   "metadata": {},
   "outputs": [],
   "source": []
  },
  {
   "cell_type": "code",
   "execution_count": null,
   "id": "a93ccea3",
   "metadata": {},
   "outputs": [],
   "source": []
  }
 ],
 "metadata": {
  "kernelspec": {
   "display_name": "Python 3 (ipykernel)",
   "language": "python",
   "name": "python3"
  },
  "language_info": {
   "codemirror_mode": {
    "name": "ipython",
    "version": 3
   },
   "file_extension": ".py",
   "mimetype": "text/x-python",
   "name": "python",
   "nbconvert_exporter": "python",
   "pygments_lexer": "ipython3",
   "version": "3.11.4"
  }
 },
 "nbformat": 4,
 "nbformat_minor": 5
}
