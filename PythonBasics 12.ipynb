{
 "cells": [
  {
   "cell_type": "markdown",
   "id": "5f1ca039",
   "metadata": {},
   "source": [
    "### For Loop"
   ]
  },
  {
   "cell_type": "code",
   "execution_count": 1,
   "id": "eddcdaa9",
   "metadata": {},
   "outputs": [
    {
     "name": "stdout",
     "output_type": "stream",
     "text": [
      "11,22,33,44,55,66,77,88,99\n"
     ]
    }
   ],
   "source": [
    "divisible_by_11 = []\n",
    "\n",
    "# Iterate through numbers from 10 to 99 (inclusive)\n",
    "for num in range(10, 100):\n",
    "    # Check if the number is divisible by 11\n",
    "    if num % 11 == 0:\n",
    "        # If divisible by 11, append to the list\n",
    "        divisible_by_11.append(num)\n",
    "\n",
    "# Convert the list to a comma-separated string\n",
    "result = ','.join(map(str, divisible_by_11))\n",
    "\n",
    "print(result)\n"
   ]
  },
  {
   "cell_type": "code",
   "execution_count": null,
   "id": "16a6f10e",
   "metadata": {},
   "outputs": [],
   "source": []
  },
  {
   "cell_type": "markdown",
   "id": "63c9d1b5",
   "metadata": {},
   "source": [
    "###### Write a program that finds all two-digit numbers divisible by 11 and indivisible by 3 (use a for loop)"
   ]
  },
  {
   "cell_type": "code",
   "execution_count": 4,
   "id": "c543a90a",
   "metadata": {},
   "outputs": [
    {
     "name": "stdout",
     "output_type": "stream",
     "text": [
      "11,22,44,55,77,88\n"
     ]
    }
   ],
   "source": [
    "\n",
    "numbers = []\n",
    "\n",
    "for num in range(10, 100):\n",
    "    if num % 11 == 0 and num % 3 != 0:\n",
    "        numbers.append(num)\n",
    "\n",
    "result = ','.join(map(str, numbers))\n",
    "\n",
    "print(result)\n"
   ]
  },
  {
   "cell_type": "code",
   "execution_count": null,
   "id": "6e9f5c35",
   "metadata": {},
   "outputs": [],
   "source": []
  },
  {
   "cell_type": "code",
   "execution_count": 5,
   "id": "cd0a7c44",
   "metadata": {},
   "outputs": [
    {
     "name": "stdout",
     "output_type": "stream",
     "text": [
      "[4, 6, 10, 24]\n"
     ]
    }
   ],
   "source": [
    "items = [1, 3, 4, 5, 6, 9, 10, 17, 23, 24]\n",
    "\n",
    "# Initialize an empty list to store even numbers\n",
    "even_numbers = []\n",
    "\n",
    "# Iterate through each number in the list\n",
    "for num in items:\n",
    "    # Check if the number is even\n",
    "    if num % 2 == 0:\n",
    "        # If even, append to the list of even numbers\n",
    "        even_numbers.append(num)\n",
    "\n",
    "print(even_numbers)\n"
   ]
  },
  {
   "cell_type": "code",
   "execution_count": null,
   "id": "ff8d365c",
   "metadata": {},
   "outputs": [],
   "source": []
  },
  {
   "cell_type": "code",
   "execution_count": 6,
   "id": "967c1a0c",
   "metadata": {},
   "outputs": [
    {
     "name": "stdout",
     "output_type": "stream",
     "text": [
      "[4, 6, 10, 24]\n"
     ]
    }
   ],
   "source": [
    "items = [1, 3, 4, 5, 6, 9, 10, 17, 23, 24]\n",
    "even_numbers = [num for num in items if num % 2 == 0]\n",
    "print(even_numbers)\n"
   ]
  },
  {
   "cell_type": "code",
   "execution_count": null,
   "id": "ed5d56cd",
   "metadata": {},
   "outputs": [],
   "source": []
  },
  {
   "cell_type": "markdown",
   "id": "fe2a9039",
   "metadata": {},
   "source": [
    "###### Write a program that removes duplicates from the list (the order must be kept)"
   ]
  },
  {
   "cell_type": "code",
   "execution_count": null,
   "id": "24ea53ae",
   "metadata": {},
   "outputs": [],
   "source": []
  },
  {
   "cell_type": "code",
   "execution_count": 9,
   "id": "e6e0b378",
   "metadata": {},
   "outputs": [
    {
     "name": "stdout",
     "output_type": "stream",
     "text": [
      "[1, 5, 3, 2, 4]\n"
     ]
    }
   ],
   "source": [
    "items = [1, 5, 3, 2, 2, 4, 2, 4]\n",
    "result = []\n",
    " \n",
    "for item in items:\n",
    "    if not item in result:\n",
    "        result.append(item)\n",
    "        \n",
    "print(result)"
   ]
  },
  {
   "cell_type": "code",
   "execution_count": null,
   "id": "4dcee56a",
   "metadata": {},
   "outputs": [],
   "source": []
  },
  {
   "cell_type": "code",
   "execution_count": null,
   "id": "4c47b39c",
   "metadata": {},
   "outputs": [],
   "source": []
  },
  {
   "cell_type": "code",
   "execution_count": null,
   "id": "48137853",
   "metadata": {},
   "outputs": [],
   "source": []
  },
  {
   "cell_type": "code",
   "execution_count": null,
   "id": "d4fad4e5",
   "metadata": {},
   "outputs": [],
   "source": []
  },
  {
   "cell_type": "code",
   "execution_count": null,
   "id": "9d360666",
   "metadata": {},
   "outputs": [],
   "source": []
  }
 ],
 "metadata": {
  "kernelspec": {
   "display_name": "Python 3 (ipykernel)",
   "language": "python",
   "name": "python3"
  },
  "language_info": {
   "codemirror_mode": {
    "name": "ipython",
    "version": 3
   },
   "file_extension": ".py",
   "mimetype": "text/x-python",
   "name": "python",
   "nbconvert_exporter": "python",
   "pygments_lexer": "ipython3",
   "version": "3.11.4"
  }
 },
 "nbformat": 4,
 "nbformat_minor": 5
}
