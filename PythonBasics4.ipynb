{
 "cells": [
  {
   "cell_type": "markdown",
   "id": "8ebe68bb",
   "metadata": {},
   "source": [
    "#### Data types"
   ]
  },
  {
   "cell_type": "code",
   "execution_count": 1,
   "id": "82f04eb4",
   "metadata": {},
   "outputs": [
    {
     "name": "stdout",
     "output_type": "stream",
     "text": [
      "path1: 49\n",
      "path2: 49\n",
      "path3: -1\n"
     ]
    }
   ],
   "source": [
    "path1 = (\n",
    "    \"https://e-smartdata.teachable.com/p/\"\n",
    "    \"sciezka-data-scientist-machine-learning-engineer\"\n",
    ")\n",
    "path2 = (\n",
    "    \"https://e-smartdata.teachable.com/p/\"\n",
    "    \"sciezka-data-scientist-deep-learning-engineer\"\n",
    ")\n",
    "path3 = (\n",
    "    \"https://e-smartdata.teachable.com/p/\"\n",
    "    \"sciezka-bi-analyst-data-analyst\"\n",
    ")\n",
    "\n",
    "index1 = path1.find('scientist')\n",
    "index2 = path2.find('scientist')\n",
    "index3 = path3.find('scientist')\n",
    "\n",
    "print(\"path1:\", index1 if index1 != -1 else -1)\n",
    "print(\"path2:\", index2 if index2 != -1 else -1)\n",
    "print(\"path3:\", index3 if index3 != -1 else -1)\n"
   ]
  },
  {
   "cell_type": "code",
   "execution_count": null,
   "id": "d0d26933",
   "metadata": {},
   "outputs": [],
   "source": []
  },
  {
   "cell_type": "code",
   "execution_count": 2,
   "id": "72e46a8d",
   "metadata": {},
   "outputs": [
    {
     "name": "stdout",
     "output_type": "stream",
     "text": [
      "code1: False\n",
      "code2: True\n"
     ]
    }
   ],
   "source": [
    "code1 = 'FVNISJND-20'\n",
    "code2 = 'FVNISJND20'\n",
    "\n",
    "is_alnum1 = code1.isalnum()\n",
    "is_alnum2 = code2.isalnum()\n",
    "\n",
    "print(\"code1:\", is_alnum1)\n",
    "print(\"code2:\", is_alnum2)"
   ]
  },
  {
   "cell_type": "code",
   "execution_count": null,
   "id": "75dc78c0",
   "metadata": {},
   "outputs": [],
   "source": []
  },
  {
   "cell_type": "code",
   "execution_count": 3,
   "id": "feb29d8e",
   "metadata": {},
   "outputs": [
    {
     "name": "stdout",
     "output_type": "stream",
     "text": [
      "google colab\n"
     ]
    }
   ],
   "source": [
    "text = 'Google Colab'\n",
    "lowercase_text = text.lower()\n",
    "print(lowercase_text)"
   ]
  },
  {
   "cell_type": "code",
   "execution_count": null,
   "id": "20114dff",
   "metadata": {},
   "outputs": [],
   "source": []
  },
  {
   "cell_type": "code",
   "execution_count": 5,
   "id": "3c84ab40",
   "metadata": {},
   "outputs": [
    {
     "name": "stdout",
     "output_type": "stream",
     "text": [
      "GOOGLE COLAB\n"
     ]
    }
   ],
   "source": [
    "text = 'Google Colab'\n",
    "print(text.upper())"
   ]
  },
  {
   "cell_type": "code",
   "execution_count": 6,
   "id": "13204308",
   "metadata": {},
   "outputs": [
    {
     "name": "stdout",
     "output_type": "stream",
     "text": [
      "Google Colab\n"
     ]
    }
   ],
   "source": [
    "text = '  Google Colab   '\n",
    "print(text.strip())"
   ]
  },
  {
   "cell_type": "code",
   "execution_count": null,
   "id": "4f8847ee",
   "metadata": {},
   "outputs": [],
   "source": []
  },
  {
   "cell_type": "code",
   "execution_count": 7,
   "id": "a93ccea3",
   "metadata": {},
   "outputs": [
    {
     "name": "stdout",
     "output_type": "stream",
     "text": [
      "FVNISJND XX\n"
     ]
    }
   ],
   "source": [
    "code = 'FVNISJND-XX'\n",
    "print(code.replace('-', ' '))\n"
   ]
  },
  {
   "cell_type": "code",
   "execution_count": null,
   "id": "8992c2d5",
   "metadata": {},
   "outputs": [],
   "source": []
  },
  {
   "cell_type": "code",
   "execution_count": 8,
   "id": "09429235",
   "metadata": {},
   "outputs": [
    {
     "name": "stdout",
     "output_type": "stream",
     "text": [
      "34023245235\n"
     ]
    }
   ],
   "source": [
    "text = '340-23-245-235'\n",
    "print(text.replace('-', ''))"
   ]
  },
  {
   "cell_type": "code",
   "execution_count": null,
   "id": "29a5f24f",
   "metadata": {},
   "outputs": [],
   "source": []
  },
  {
   "cell_type": "code",
   "execution_count": 9,
   "id": "f430dd76",
   "metadata": {},
   "outputs": [
    {
     "name": "stdout",
     "output_type": "stream",
     "text": [
      "['Open', 'High', 'Low', 'Close']\n"
     ]
    }
   ],
   "source": [
    "text = 'Open,High,Low,Close'\n",
    "\n",
    "print(text.split(','))"
   ]
  },
  {
   "cell_type": "code",
   "execution_count": null,
   "id": "e90da55d",
   "metadata": {},
   "outputs": [],
   "source": []
  },
  {
   "cell_type": "code",
   "execution_count": null,
   "id": "ef5319a5",
   "metadata": {},
   "outputs": [],
   "source": []
  }
 ],
 "metadata": {
  "kernelspec": {
   "display_name": "Python 3 (ipykernel)",
   "language": "python",
   "name": "python3"
  },
  "language_info": {
   "codemirror_mode": {
    "name": "ipython",
    "version": 3
   },
   "file_extension": ".py",
   "mimetype": "text/x-python",
   "name": "python",
   "nbconvert_exporter": "python",
   "pygments_lexer": "ipython3",
   "version": "3.11.4"
  }
 },
 "nbformat": 4,
 "nbformat_minor": 5
}
