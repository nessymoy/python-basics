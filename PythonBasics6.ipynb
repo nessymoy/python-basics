{
 "cells": [
  {
   "cell_type": "markdown",
   "id": "8f020353",
   "metadata": {},
   "source": [
    "####  Sets and Tuple"
   ]
  },
  {
   "cell_type": "code",
   "execution_count": 2,
   "id": "07655193",
   "metadata": {},
   "outputs": [
    {
     "name": "stdout",
     "output_type": "stream",
     "text": [
      "Symmetric difference: {2, 6, 8, 10}\n"
     ]
    }
   ],
   "source": [
    "A = {2, 4, 6, 8}\n",
    "B = {4, 10}\n",
    "symmetric_difference = A.symmetric_difference(B)\n",
    "print(\"Symmetric difference:\", symmetric_difference)\n"
   ]
  },
  {
   "cell_type": "code",
   "execution_count": null,
   "id": "215740e7",
   "metadata": {},
   "outputs": [],
   "source": []
  },
  {
   "cell_type": "code",
   "execution_count": 3,
   "id": "018d071d",
   "metadata": {},
   "outputs": [
    {
     "name": "stdout",
     "output_type": "stream",
     "text": [
      "Selected ID: {'001', '007'}\n"
     ]
    }
   ],
   "source": [
    "ad1_id = {'001', '002', '003'}\n",
    "ad2_id = {'002', '003', '007'}\n",
    "selected_id = ad1_id.symmetric_difference(ad2_id)\n",
    "print(\"Selected ID:\", selected_id)"
   ]
  },
  {
   "cell_type": "code",
   "execution_count": null,
   "id": "b4f03a30",
   "metadata": {},
   "outputs": [],
   "source": []
  },
  {
   "cell_type": "code",
   "execution_count": 5,
   "id": "b469214f",
   "metadata": {},
   "outputs": [
    {
     "name": "stdout",
     "output_type": "stream",
     "text": [
      "Customer ID: {'9001', '9004'}\n"
     ]
    }
   ],
   "source": [
    "is_clicked = {'9001', '9002', '9005'}\n",
    "is_bought = {'9002', '9004', '9005'}\n",
    "\n",
    "result = is_clicked.symmetric_difference(is_bought)\n",
    "print(f'Customer ID: {result}')"
   ]
  },
  {
   "cell_type": "code",
   "execution_count": null,
   "id": "e882a2e7",
   "metadata": {},
   "outputs": [],
   "source": []
  },
  {
   "cell_type": "code",
   "execution_count": 7,
   "id": "c1cf75ab",
   "metadata": {},
   "outputs": [
    {
     "name": "stdout",
     "output_type": "stream",
     "text": [
      "('AAPL.US', 'IBM.US', 'MSFT.US', 'HD.US', 'GS.US', 'NKE.US')\n"
     ]
    }
   ],
   "source": [
    "dji1 = ('AAPL.US', 'IBM.US', 'MSFT.US')\n",
    "dji2 = ('HD.US', 'GS.US', 'NKE.US')\n",
    "\n",
    "result = dji1 + dji2\n",
    "print(result)"
   ]
  },
  {
   "cell_type": "code",
   "execution_count": null,
   "id": "a2eab8d8",
   "metadata": {},
   "outputs": [],
   "source": []
  },
  {
   "cell_type": "code",
   "execution_count": 8,
   "id": "3411f5a2",
   "metadata": {},
   "outputs": [
    {
     "name": "stdout",
     "output_type": "stream",
     "text": [
      "(('AAPL.US', 'IBM.US', 'MSFT.US'), ('HD.US', 'GS.US', 'NKE.US'))\n"
     ]
    }
   ],
   "source": [
    "dji1 = ('AAPL.US', 'IBM.US', 'MSFT.US')\n",
    "dji2 = ('HD.US', 'GS.US', 'NKE.US')\n",
    "\n",
    "result = (dji1,dji2)\n",
    "print(result)"
   ]
  },
  {
   "cell_type": "code",
   "execution_count": null,
   "id": "23f93d78",
   "metadata": {},
   "outputs": [],
   "source": []
  },
  {
   "cell_type": "code",
   "execution_count": 9,
   "id": "41700dd5",
   "metadata": {},
   "outputs": [
    {
     "name": "stdout",
     "output_type": "stream",
     "text": [
      "(('Kate', 23), ('John', 26), ('Tom', 19))\n"
     ]
    }
   ],
   "source": [
    "members = (('Kate', 23), ('Tom', 19))\n",
    "new_members = (members[0], ('John', 26), members[1])\n",
    "print(new_members)"
   ]
  },
  {
   "cell_type": "code",
   "execution_count": null,
   "id": "d8bfa49c",
   "metadata": {},
   "outputs": [],
   "source": []
  },
  {
   "cell_type": "code",
   "execution_count": null,
   "id": "a06e5254",
   "metadata": {},
   "outputs": [],
   "source": []
  }
 ],
 "metadata": {
  "kernelspec": {
   "display_name": "Python 3 (ipykernel)",
   "language": "python",
   "name": "python3"
  },
  "language_info": {
   "codemirror_mode": {
    "name": "ipython",
    "version": 3
   },
   "file_extension": ".py",
   "mimetype": "text/x-python",
   "name": "python",
   "nbconvert_exporter": "python",
   "pygments_lexer": "ipython3",
   "version": "3.11.4"
  }
 },
 "nbformat": 4,
 "nbformat_minor": 5
}
