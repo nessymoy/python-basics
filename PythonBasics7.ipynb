{
 "cells": [
  {
   "cell_type": "markdown",
   "id": "efeff838",
   "metadata": {},
   "source": [
    "####  Sets and Tuple"
   ]
  },
  {
   "cell_type": "code",
   "execution_count": null,
   "id": "d8bfa49c",
   "metadata": {},
   "outputs": [],
   "source": []
  },
  {
   "cell_type": "code",
   "execution_count": 1,
   "id": "ec15416c",
   "metadata": {},
   "outputs": [
    {
     "name": "stdout",
     "output_type": "stream",
     "text": [
      "2\n"
     ]
    }
   ],
   "source": [
    "default = ('YES', 'NO', 'NO', 'YES', 'NO')\n",
    "count_yes = default.count('YES')\n",
    "print(count_yes)"
   ]
  },
  {
   "cell_type": "code",
   "execution_count": null,
   "id": "df62965c",
   "metadata": {},
   "outputs": [],
   "source": []
  },
  {
   "cell_type": "code",
   "execution_count": 3,
   "id": "1129e313",
   "metadata": {},
   "outputs": [
    {
     "name": "stdout",
     "output_type": "stream",
     "text": [
      "('John', 'Michael', 'Monica', 'Tom')\n"
     ]
    }
   ],
   "source": [
    "names = ('Monica', 'Tom', 'John', 'Michael')\n",
    "sort_names = tuple(sorted(names))\n",
    "print(sort_names)\n"
   ]
  },
  {
   "cell_type": "code",
   "execution_count": null,
   "id": "9237fcf6",
   "metadata": {},
   "outputs": [],
   "source": []
  },
  {
   "cell_type": "code",
   "execution_count": 5,
   "id": "4411d425",
   "metadata": {},
   "outputs": [
    {
     "name": "stdout",
     "output_type": "stream",
     "text": [
      "Ascending: (('John', 18), ('Monica', 19), ('Tom', 21))\n",
      "Descending: (('Tom', 21), ('Monica', 19), ('John', 18))\n"
     ]
    }
   ],
   "source": [
    "info = (('Monica', 19), ('Tom', 21), ('John', 18))\n",
    "asc = tuple(sorted(info, key=lambda item: item[1]))\n",
    "desc = tuple(sorted(info, key=lambda item: item[1], reverse=True))\n",
    "print(f'Ascending: {asc}')\n",
    "print(f'Descending: {desc}')"
   ]
  },
  {
   "cell_type": "code",
   "execution_count": null,
   "id": "72b51d92",
   "metadata": {},
   "outputs": [],
   "source": []
  },
  {
   "cell_type": "code",
   "execution_count": 6,
   "id": "0e736d88",
   "metadata": {},
   "outputs": [
    {
     "name": "stdout",
     "output_type": "stream",
     "text": [
      "AAPL.US\n"
     ]
    }
   ],
   "source": [
    "stocks = (('Apple Inc', ('AAPL.US', 310)), ('Microsoft Corp', ('MSFT.US', 184)))\n",
    "\n",
    "print(stocks[0][1][0])"
   ]
  },
  {
   "cell_type": "markdown",
   "id": "a97f57b0",
   "metadata": {},
   "source": [
    "In this code:\n",
    "\n",
    "stocks[0] accesses the first element of the stocks tuple, which corresponds to Apple Inc.\n",
    "stocks[0][1] accesses the second element of the tuple inside the first element of stocks, which contains the ticker information.\n",
    "stocks[0][1][0] accesses the first element of the tuple inside the second element of the tuple inside the first element of stocks, which is the ticker for Apple Inc."
   ]
  },
  {
   "cell_type": "code",
   "execution_count": null,
   "id": "a06e5254",
   "metadata": {},
   "outputs": [],
   "source": []
  }
 ],
 "metadata": {
  "kernelspec": {
   "display_name": "Python 3 (ipykernel)",
   "language": "python",
   "name": "python3"
  },
  "language_info": {
   "codemirror_mode": {
    "name": "ipython",
    "version": 3
   },
   "file_extension": ".py",
   "mimetype": "text/x-python",
   "name": "python",
   "nbconvert_exporter": "python",
   "pygments_lexer": "ipython3",
   "version": "3.11.4"
  }
 },
 "nbformat": 4,
 "nbformat_minor": 5
}
