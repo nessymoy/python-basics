{
 "cells": [
  {
   "cell_type": "markdown",
   "id": "5f1ca039",
   "metadata": {},
   "source": [
    "### IF STATEMENT"
   ]
  },
  {
   "cell_type": "code",
   "execution_count": 5,
   "id": "be3ac77a",
   "metadata": {},
   "outputs": [
    {
     "name": "stdout",
     "output_type": "stream",
     "text": [
      "YES\n"
     ]
    }
   ],
   "source": [
    "filename = '01012020_sales.xlsx'\n",
    "if filename.endswith('xlsx'):\n",
    "    print('YES')\n",
    "else:\n",
    "    print('NO')"
   ]
  },
  {
   "cell_type": "code",
   "execution_count": null,
   "id": "68e9faf4",
   "metadata": {},
   "outputs": [],
   "source": []
  },
  {
   "cell_type": "code",
   "execution_count": 7,
   "id": "4ebca4b3",
   "metadata": {},
   "outputs": [
    {
     "name": "stdout",
     "output_type": "stream",
     "text": [
      "YES\n"
     ]
    }
   ],
   "source": [
    "code = 'DSVNDOICSN'\n",
    "if code.isupper():\n",
    "    print('YES')\n",
    "else:\n",
    "    print('NO')\n"
   ]
  },
  {
   "cell_type": "code",
   "execution_count": null,
   "id": "051d5ca3",
   "metadata": {},
   "outputs": [],
   "source": []
  },
  {
   "cell_type": "code",
   "execution_count": 8,
   "id": "8144e884",
   "metadata": {},
   "outputs": [
    {
     "name": "stdout",
     "output_type": "stream",
     "text": [
      "NO\n"
     ]
    }
   ],
   "source": [
    "number = 1.0\n",
    "\n",
    "if isinstance(number, int):\n",
    "    print('YES')\n",
    "else:\n",
    "    print('NO')\n"
   ]
  },
  {
   "cell_type": "code",
   "execution_count": null,
   "id": "dac38ffa",
   "metadata": {},
   "outputs": [],
   "source": []
  },
  {
   "cell_type": "code",
   "execution_count": 10,
   "id": "28608684",
   "metadata": {},
   "outputs": [
    {
     "name": "stdout",
     "output_type": "stream",
     "text": [
      "Password correct\n"
     ]
    }
   ],
   "source": [
    "password = 'cskdnjcasa#!'\n",
    "\n",
    "if len(password) >= 11:\n",
    "    print('Password correct')\n",
    "else:\n",
    "    print('Password too short')\n"
   ]
  },
  {
   "cell_type": "code",
   "execution_count": null,
   "id": "b98a366e",
   "metadata": {},
   "outputs": [],
   "source": []
  },
  {
   "cell_type": "code",
   "execution_count": 16,
   "id": "e55a6fbf",
   "metadata": {},
   "outputs": [
    {
     "name": "stdout",
     "output_type": "stream",
     "text": [
      "Password correct\n"
     ]
    }
   ],
   "source": [
    "password = 'cskdnjcasa#!'\n",
    "if len(password) >= 11 and '!'in password:\n",
    "    print('Password correct')\n",
    "else:\n",
    "    print('Password too short')\n"
   ]
  },
  {
   "cell_type": "code",
   "execution_count": null,
   "id": "3129a84a",
   "metadata": {},
   "outputs": [],
   "source": []
  },
  {
   "cell_type": "code",
   "execution_count": 17,
   "id": "641ff24c",
   "metadata": {},
   "outputs": [
    {
     "name": "stdout",
     "output_type": "stream",
     "text": [
      "['02134', '24253', '02135']\n"
     ]
    }
   ],
   "source": [
    "project_ids = ['02134', '24253']\n",
    "project_id = '02135'\n",
    "\n",
    "if project_id not in project_ids:\n",
    "    project_ids.append(project_id)\n",
    "\n",
    "print(project_ids)\n"
   ]
  },
  {
   "cell_type": "code",
   "execution_count": null,
   "id": "0d3e5736",
   "metadata": {},
   "outputs": [],
   "source": []
  },
  {
   "cell_type": "code",
   "execution_count": 18,
   "id": "5a4909ff",
   "metadata": {},
   "outputs": [
    {
     "name": "stdout",
     "output_type": "stream",
     "text": [
      "{'01': 'open', '02': 'open', '03': 'in progress', '04': 'completed'}\n"
     ]
    }
   ],
   "source": [
    "project_ids = {\n",
    "    '01': 'open', \n",
    "    '02': 'new',\n",
    "    '03': 'in progress',\n",
    "    '04': 'completed'\n",
    "}\n",
    "\n",
    "if project_ids.get('02') == 'new':\n",
    "    project_ids['02'] = 'open'\n",
    "\n",
    "print(project_ids)\n"
   ]
  },
  {
   "cell_type": "code",
   "execution_count": null,
   "id": "9125311a",
   "metadata": {},
   "outputs": [],
   "source": []
  },
  {
   "cell_type": "code",
   "execution_count": 19,
   "id": "9b8a2bfe",
   "metadata": {},
   "outputs": [
    {
     "name": "stdout",
     "output_type": "stream",
     "text": [
      "['000', '003', '005', '006']\n"
     ]
    }
   ],
   "source": [
    "item = '001'\n",
    "items = ['001', '000', '003', '005', '006']\n",
    "\n",
    "if item in items:\n",
    "    items.remove(item)\n",
    "\n",
    "print(items)\n"
   ]
  },
  {
   "cell_type": "code",
   "execution_count": null,
   "id": "ccac5b60",
   "metadata": {},
   "outputs": [],
   "source": []
  }
 ],
 "metadata": {
  "kernelspec": {
   "display_name": "Python 3 (ipykernel)",
   "language": "python",
   "name": "python3"
  },
  "language_info": {
   "codemirror_mode": {
    "name": "ipython",
    "version": 3
   },
   "file_extension": ".py",
   "mimetype": "text/x-python",
   "name": "python",
   "nbconvert_exporter": "python",
   "pygments_lexer": "ipython3",
   "version": "3.11.4"
  }
 },
 "nbformat": 4,
 "nbformat_minor": 5
}
