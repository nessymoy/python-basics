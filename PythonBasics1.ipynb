{
 "cells": [
  {
   "cell_type": "code",
   "execution_count": 1,
   "id": "1b1fb9e2",
   "metadata": {},
   "outputs": [
    {
     "name": "stdout",
     "output_type": "stream",
     "text": [
      "Learn Python!\n"
     ]
    }
   ],
   "source": [
    "print('Learn Python!')\n"
   ]
  },
  {
   "cell_type": "code",
   "execution_count": 2,
   "id": "8e7781a2",
   "metadata": {},
   "outputs": [
    {
     "name": "stdout",
     "output_type": "stream",
     "text": [
      "I am 20 years old.\n"
     ]
    }
   ],
   "source": [
    "age = 20\n",
    "\n",
    "print(f'I am {age} years old.')"
   ]
  },
  {
   "cell_type": "code",
   "execution_count": 3,
   "id": "36a84043",
   "metadata": {},
   "outputs": [
    {
     "name": "stdout",
     "output_type": "stream",
     "text": [
      "I am learning Python version 3.8\n"
     ]
    }
   ],
   "source": [
    "name = 'Python'\n",
    "version = '3.8'\n",
    "print(f'I am learning {name} version {version}')"
   ]
  },
  {
   "cell_type": "code",
   "execution_count": 4,
   "id": "916b50f5",
   "metadata": {},
   "outputs": [
    {
     "name": "stdout",
     "output_type": "stream",
     "text": [
      "This costs 199.99\n"
     ]
    }
   ],
   "source": [
    "price = '199.99'\n",
    "print('This costs', price)"
   ]
  },
  {
   "cell_type": "code",
   "execution_count": 5,
   "id": "d4e556dc",
   "metadata": {},
   "outputs": [
    {
     "name": "stdout",
     "output_type": "stream",
     "text": [
      "This costs 69.99\n"
     ]
    }
   ],
   "source": [
    "price = '69.99'\n",
    "print(f'This costs {price}')"
   ]
  },
  {
   "cell_type": "code",
   "execution_count": 6,
   "id": "b853830e",
   "metadata": {},
   "outputs": [
    {
     "name": "stdout",
     "output_type": "stream",
     "text": [
      "Price: $34.99. Weight: 20 lbs.\n"
     ]
    }
   ],
   "source": [
    "product_price = 34.99\n",
    "product_weight = 20\n",
    "\n",
    "print(f\"Price: ${product_price}. Weight: {product_weight} lbs.\")"
   ]
  },
  {
   "cell_type": "code",
   "execution_count": 7,
   "id": "81cbf7e9",
   "metadata": {},
   "outputs": [
    {
     "name": "stdout",
     "output_type": "stream",
     "text": [
      "Pi: 3.14\n"
     ]
    }
   ],
   "source": [
    "pi = 3.1415926535\n",
    "\n",
    "print(f\"Pi: {pi:.2f}\")"
   ]
  },
  {
   "cell_type": "code",
   "execution_count": 8,
   "id": "c59cdd81",
   "metadata": {},
   "outputs": [
    {
     "name": "stdout",
     "output_type": "stream",
     "text": [
      "----------------------------------------\n",
      "VERSION: 1.0.1\n",
      "----------------------------------------\n"
     ]
    }
   ],
   "source": [
    "print('-' * 40)\n",
    "print(\"VERSION: 1.0.1\")\n",
    "print('-' * 40)"
   ]
  },
  {
   "cell_type": "code",
   "execution_count": 9,
   "id": "3b35a94e",
   "metadata": {},
   "outputs": [
    {
     "name": "stdout",
     "output_type": "stream",
     "text": [
      "========================================\n",
      "author: johnsmith@sample.com\n",
      "date: 01-01-2021\n",
      "========================================\n"
     ]
    }
   ],
   "source": [
    "print('=' * 40)\n",
    "print(\"author: johnsmith@sample.com\")\n",
    "print(\"date: 01-01-2021\")\n",
    "print('=' * 40)"
   ]
  },
  {
   "cell_type": "code",
   "execution_count": 10,
   "id": "e13a8d62",
   "metadata": {},
   "outputs": [
    {
     "name": "stdout",
     "output_type": "stream",
     "text": [
      "summer#time#holiday\n"
     ]
    }
   ],
   "source": [
    "print('summer', 'time', 'holiday', sep='#')\n"
   ]
  },
  {
   "cell_type": "code",
   "execution_count": 19,
   "id": "c214eb1b",
   "metadata": {},
   "outputs": [
    {
     "name": "stdout",
     "output_type": "stream",
     "text": [
      "78.5\n"
     ]
    }
   ],
   "source": [
    "pi = 3.14\n",
    "radius = 5\n",
    "area = pi * (radius ** 2)\n",
    "print( area)\n"
   ]
  },
  {
   "cell_type": "code",
   "execution_count": 17,
   "id": "1d0c9a52",
   "metadata": {},
   "outputs": [
    {
     "name": "stdout",
     "output_type": "stream",
     "text": [
      "Area: 78.5\n"
     ]
    }
   ],
   "source": [
    "pi = 3.14\n",
    "radius = 5\n",
    "area = pi * radius ** 2\n",
    "print(f'Area: {area:.1f}')"
   ]
  },
  {
   "cell_type": "code",
   "execution_count": null,
   "id": "b750ea80",
   "metadata": {},
   "outputs": [],
   "source": []
  },
  {
   "cell_type": "code",
   "execution_count": null,
   "id": "1a6b87d4",
   "metadata": {},
   "outputs": [],
   "source": []
  },
  {
   "cell_type": "code",
   "execution_count": null,
   "id": "6b1e0527",
   "metadata": {},
   "outputs": [],
   "source": []
  },
  {
   "cell_type": "code",
   "execution_count": null,
   "id": "0da0104c",
   "metadata": {},
   "outputs": [],
   "source": []
  },
  {
   "cell_type": "code",
   "execution_count": null,
   "id": "4f8847ee",
   "metadata": {},
   "outputs": [],
   "source": []
  },
  {
   "cell_type": "code",
   "execution_count": null,
   "id": "a93ccea3",
   "metadata": {},
   "outputs": [],
   "source": []
  }
 ],
 "metadata": {
  "kernelspec": {
   "display_name": "Python 3 (ipykernel)",
   "language": "python",
   "name": "python3"
  },
  "language_info": {
   "codemirror_mode": {
    "name": "ipython",
    "version": 3
   },
   "file_extension": ".py",
   "mimetype": "text/x-python",
   "name": "python",
   "nbconvert_exporter": "python",
   "pygments_lexer": "ipython3",
   "version": "3.11.4"
  }
 },
 "nbformat": 4,
 "nbformat_minor": 5
}
